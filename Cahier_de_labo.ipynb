{
 "cells": [
  {
   "cell_type": "markdown",
   "id": "2a51f360-9def-4f54-b471-6a5a6791ebea",
   "metadata": {},
   "source": [
    "# Cahier de Labo"
   ]
  },
  {
   "cell_type": "markdown",
   "id": "f1601cf6-14f7-49f0-b8eb-ab027c5bb3a7",
   "metadata": {},
   "source": [
    "---"
   ]
  },
  {
   "cell_type": "markdown",
   "id": "9697e4d7-4ade-4d56-865e-e3cef166446e",
   "metadata": {},
   "source": [
    "## 14/04/2025"
   ]
  },
  {
   "cell_type": "markdown",
   "id": "643fa95f-c689-4052-9286-5349dc1494c5",
   "metadata": {},
   "source": [
    "![Histogramme des déclenchements par DU](images/histo_declenchements_par_du.png)\n"
   ]
  },
  {
   "cell_type": "markdown",
   "id": "e0362f4b-1248-4674-82e3-8879ad7a77cd",
   "metadata": {},
   "source": [
    "![PSD without filter](images/PSD_without_filter.png)"
   ]
  },
  {
   "cell_type": "markdown",
   "id": "54fbdfe2-3121-49d8-ab50-df877798eff8",
   "metadata": {},
   "source": [
    "_PSD sans 4 filtres, en excluant les DU ayant moins de 100 triggers lors du run (ci dessus)_"
   ]
  },
  {
   "cell_type": "markdown",
   "id": "199c5348-31a0-43ce-9843-2a9e7e6ae4bb",
   "metadata": {},
   "source": [
    "![PSD with filters](images/PSD_with_filter.png)"
   ]
  },
  {
   "cell_type": "markdown",
   "id": "93c8022f-fbb4-4a29-8673-7a20d2b288cc",
   "metadata": {},
   "source": [
    "_PSD avec 4 filtres, en excluant les DU ayant moins de 100 triggers lors du run (ci dessus)_"
   ]
  },
  {
   "cell_type": "markdown",
   "id": "82c6de7c-0bad-4c80-b4b2-3e6c90bf536f",
   "metadata": {},
   "source": [
    "![PSD expected](images/PSD_expected.png)"
   ]
  },
  {
   "cell_type": "markdown",
   "id": "57aaf876-9ff1-4d89-81a2-c01df2370bc0",
   "metadata": {
    "tags": []
   },
   "source": [
    "_PSD expected (ci dessus)_"
   ]
  },
  {
   "cell_type": "markdown",
   "id": "fedfc68f-1328-42bf-a382-b40dd010d22c",
   "metadata": {},
   "source": [
    "## 15/03/2025"
   ]
  },
  {
   "cell_type": "markdown",
   "id": "09dc58b4-db78-409e-b305-ddc77f195856",
   "metadata": {
    "tags": []
   },
   "source": [
    "---"
   ]
  },
  {
   "cell_type": "markdown",
   "id": "f63db1a2-a909-4591-865b-c953759fc530",
   "metadata": {},
   "source": [
    "![PSD with filter corrected](images/PSD_with_filter_corrected.png)"
   ]
  },
  {
   "cell_type": "markdown",
   "id": "144dd757-0306-4fcc-a329-67bf8e731edf",
   "metadata": {},
   "source": [
    "_PSD corrected with the conversion of ADC to Volt_"
   ]
  },
  {
   "cell_type": "markdown",
   "id": "73004a72-a257-4a3d-8002-aec84c680f66",
   "metadata": {},
   "source": [
    "![PSD corrected with the conversion ADCtoVolt and the VGA Gain](images/PSD_with_filter_corrected_VGAcorrected.png)"
   ]
  },
  {
   "cell_type": "markdown",
   "id": "e1a8e225-434a-40a9-b041-84f7479df87c",
   "metadata": {},
   "source": [
    "![PSD expected VGAcorrected](images/PSD_expected_VGAcorrected.png)"
   ]
  },
  {
   "cell_type": "markdown",
   "id": "db8d6fba-a6d1-41ca-b71b-e47efc54de66",
   "metadata": {},
   "source": [
    "## 17/03/2025"
   ]
  },
  {
   "cell_type": "markdown",
   "id": "bc95755d-4415-42d4-96b3-762c109d10e6",
   "metadata": {
    "tags": []
   },
   "source": [
    "---"
   ]
  },
  {
   "cell_type": "markdown",
   "id": "d04ba630-0f6a-43f2-9d04-053fda9797d0",
   "metadata": {
    "tags": []
   },
   "source": [
    "![Geolocation with trigger rate](images/Geolocation_with_trigger_rate.png)"
   ]
  },
  {
   "cell_type": "markdown",
   "id": "b903d0db-feb1-411a-9db7-6dd1f0758393",
   "metadata": {},
   "source": [
    "![Histo declanchement 2](images/histo_declanchement_2.png)"
   ]
  },
  {
   "cell_type": "markdown",
   "id": "ce9bed36-f7f5-41b4-907f-0f55c43f51c5",
   "metadata": {},
   "source": [
    "## 18/03/2025"
   ]
  },
  {
   "cell_type": "markdown",
   "id": "28378da1-2577-4f64-bbe8-7ec1c39afd8a",
   "metadata": {},
   "source": [
    "---"
   ]
  },
  {
   "cell_type": "markdown",
   "id": "6a61580f-9c56-4f52-a916-5028ddec236d",
   "metadata": {},
   "source": [
    "![Histo of the AOI (run : GP80_20250312_190857_RUN10070_CD_20dB_23DUs_GP43-ChY-X2X-Y2Y-CD-10000-612.root)](images/histo_aoi.png)"
   ]
  },
  {
   "cell_type": "markdown",
   "id": "ca39da41-5151-4fc5-a812-b95758905a37",
   "metadata": {},
   "source": [
    "![Histo of MP (run : GP80_20250312_190857_RUN10070_CD_20dB_23DUs_GP43-ChY-X2X-Y2Y-CD-10000-612.root)](images/histo_mp_compa_aoi.png)"
   ]
  },
  {
   "cell_type": "markdown",
   "id": "cf588fa8-3aba-4f36-9d26-f3dfad2330e1",
   "metadata": {},
   "source": [
    "![Coma des histo](images/compa_hist_mp_aoi.png)"
   ]
  },
  {
   "cell_type": "markdown",
   "id": "31208c1f-17a9-46d5-ac78-21ef783c7fcd",
   "metadata": {},
   "source": [
    "## 27/03/2024"
   ]
  },
  {
   "cell_type": "markdown",
   "id": "a64bcc1a-fe69-486d-baef-43b314528ab7",
   "metadata": {},
   "source": [
    "---"
   ]
  },
  {
   "cell_type": "code",
   "execution_count": null,
   "id": "249732c3-745b-4ba0-a77c-924ed3e7d9c7",
   "metadata": {},
   "outputs": [],
   "source": []
  }
 ],
 "metadata": {
  "kernelspec": {
   "display_name": "Python 3 (ipykernel)",
   "language": "python",
   "name": "python3"
  },
  "language_info": {
   "codemirror_mode": {
    "name": "ipython",
    "version": 3
   },
   "file_extension": ".py",
   "mimetype": "text/x-python",
   "name": "python",
   "nbconvert_exporter": "python",
   "pygments_lexer": "ipython3",
   "version": "3.9.16"
  }
 },
 "nbformat": 4,
 "nbformat_minor": 5
}
