{
 "cells": [
  {
   "cell_type": "markdown",
   "id": "62cab2f1-6581-4ceb-86c1-df09e5d6b4b4",
   "metadata": {},
   "source": [
    "# Mise en place"
   ]
  },
  {
   "cell_type": "markdown",
   "id": "9ba31288-a3cb-409e-b356-3e7133493cf1",
   "metadata": {},
   "source": [
    "## Importer les librairies necessiares"
   ]
  },
  {
   "cell_type": "code",
   "execution_count": 1,
   "id": "8777bec3-289b-42c6-a6d9-cab6d16d848f",
   "metadata": {
    "tags": []
   },
   "outputs": [
    {
     "name": "stdout",
     "output_type": "stream",
     "text": [
      "Welcome to JupyROOT 6.26/10\n"
     ]
    }
   ],
   "source": [
    "import numpy as np\n",
    "import matplotlib.pyplot as plt\n",
    "# import glob\n",
    "from scipy.fft import rfftfreq, rfft, irfft\n",
    "from grand import ECEF, Geodetic, GRANDCS, LTP\n",
    "from scipy.optimize import minimize_scalar\n",
    "from scipy.optimize import curve_fit\n",
    "import os \n",
    "import datetime\n",
    "import grand.dataio.root_trees as rt  # Permet d'extraire les attributs\n",
    "\n",
    "from grand import ECEF, Geodetic, GRANDCS, LTP\n",
    "from grand import Geomagnet\n",
    "from grand import Topography, Reference, geoid_undulation\n",
    "from grand import topography"
   ]
  },
  {
   "cell_type": "markdown",
   "id": "b0366271-6f64-4f0c-ab2e-0a4f5d7e12d4",
   "metadata": {},
   "source": [
    "## Chargement des données "
   ]
  },
  {
   "cell_type": "code",
   "execution_count": null,
   "id": "3eaf15df-c483-4c66-a96f-412a7d1fd9f7",
   "metadata": {
    "tags": []
   },
   "outputs": [],
   "source": [
    "data_dir = \"/home/nlebas/grand/examples/grandlib_classes/\"\n",
    "\n",
    "flist=[data_dir+\"GP80_20250309_235256_RUN10070_CD_20dB_23DUs_GP43-ChY-X2X-Y2Y-CD-10000-22.root\"] # Voici le fichier à charger mis dans une liste\n"
   ]
  },
  {
   "cell_type": "markdown",
   "id": "45723c68-b646-4e38-83ee-ba63a454e6a5",
   "metadata": {},
   "source": [
    "Ouverture du fichier "
   ]
  },
  {
   "cell_type": "code",
   "execution_count": 10,
   "id": "72583f83-3eec-4357-8e53-ac30eb55bee2",
   "metadata": {
    "tags": []
   },
   "outputs": [],
   "source": [
    "# Initialisation des listes pour stocker les données\n",
    "list_mult = []\n",
    "list_trigger_time = []\n",
    "list_trigger_nano = []\n",
    "list_du_id = []\n",
    "list_du_long = []\n",
    "list_du_lat = []\n",
    "list_du_alt = []\n",
    "list_traces = []\n",
    "\n",
    "for fname in flist:\n",
    "    # Create a DataFile object to load the ROOT data.\n",
    "    root_file = rt.DataFile(fname)\n",
    "    \n",
    "    # Get the total number of entries (each corresponds to a potential cosmic ray trigger event).\n",
    "    n = root_file.tadc.get_number_of_entries()\n",
    "    \n",
    "    # Loop over each event entry.\n",
    "    for i in range(n):\n",
    "        # Retrieve ADC and raw voltage data for the current event.\n",
    "        root_file.tadc.get_entry(i)\n",
    "        root_file.trawvoltage.get_entry(i)\n",
    "        \n",
    "        # Check trigger conditions:\n",
    "        # - Ensure that not all values in the 10-second trigger pattern are True.\n",
    "        # - Ensure that at least one value in the channel trigger pattern is True.\n",
    "        if ~np.all(root_file.tadc.trigger_pattern_10s) and np.any(root_file.tadc.trigger_pattern_ch):\n",
    "            \n",
    "            # Skip events with an abnormal GPS trigger time.\n",
    "            if root_file.tadc.du_seconds[0] > 2045518457:\n",
    "                continue\n",
    "            \n",
    "            # Determine event multiplicity (number of detected elements in this event).\n",
    "            multiplicity = len(root_file.tadc.du_id)\n",
    "            list_mult.append(multiplicity)\n",
    "            \n",
    "            # Record trigger times (seconds and nanoseconds).\n",
    "            list_trigger_time.append(root_file.tadc.du_seconds[0])\n",
    "            list_trigger_nano.append(root_file.tadc.du_nanoseconds[0])\n",
    "            \n",
    "            # Record the identifier for the first triggered detection unit.\n",
    "            list_du_id.append(root_file.tadc.du_id[0])\n",
    "            \n",
    "            # Record the GPS data (longitude, latitude, altitude) associated with the event.\n",
    "            list_du_long.append(root_file.trawvoltage.gps_long[0])\n",
    "            list_du_lat.append(root_file.trawvoltage.gps_lat[0])\n",
    "            list_du_alt.append(root_file.trawvoltage.gps_alt[0])\n",
    "            \n",
    "            # Extract trace data for the event (raw data and x, y, z channels).\n",
    "            _traces = []\n",
    "            _traces.append(root_file.tadc.trace_ch[0][0])\n",
    "            _traces.append(root_file.tadc.trace_ch[0][1])\n",
    "            _traces.append(root_file.tadc.trace_ch[0][2])\n",
    "            _traces.append(root_file.tadc.trace_ch[0][3])\n",
    "            list_traces.append(_traces)\n",
    "\n",
    "# Convert lists to NumPy arrays for further analysis.\n",
    "list_trigger_time = np.array(list_trigger_time)  # Trigger times in seconds.\n",
    "list_trigger_nano = np.array(list_trigger_nano)  # Trigger times in nanoseconds.\n",
    "list_du_id = np.array(list_du_id)\n",
    "list_traces = np.array(list_traces)\n",
    "list_du_long = np.array(list_du_long)\n",
    "list_du_lat = np.array(list_du_lat)\n",
    "list_du_alt = np.array(list_du_alt)\n",
    "list_mult = np.array(list_mult)\n"
   ]
  },
  {
   "cell_type": "code",
   "execution_count": null,
   "id": "ab085ed9-d0b1-46ea-aee0-53c956de2fb9",
   "metadata": {},
   "outputs": [],
   "source": []
  }
 ],
 "metadata": {
  "kernelspec": {
   "display_name": "Python 3 (ipykernel)",
   "language": "python",
   "name": "python3"
  },
  "language_info": {
   "codemirror_mode": {
    "name": "ipython",
    "version": 3
   },
   "file_extension": ".py",
   "mimetype": "text/x-python",
   "name": "python",
   "nbconvert_exporter": "python",
   "pygments_lexer": "ipython3",
   "version": "3.9.16"
  }
 },
 "nbformat": 4,
 "nbformat_minor": 5
}
